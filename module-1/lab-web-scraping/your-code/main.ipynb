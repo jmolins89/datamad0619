{
 "cells": [
  {
   "cell_type": "markdown",
   "metadata": {},
   "source": [
    "# Web Scraping Lab\n",
    "\n",
    "You will find in this notebook some scrapy exercises to practise your scraping skills.\n",
    "\n",
    "**Tips:**\n",
    "\n",
    "- Check the response status code for each request to ensure you have obtained the intended contennt.\n",
    "- Print the response text in each request to understand the kind of info you are getting and its format.\n",
    "- Check for patterns in the response text to extract the data/info requested in each question.\n",
    "- Visit each url and take a look at its source through Chrome DevTools. You'll need to identify the html tags, special class names etc. used for the html content you are expected to extract."
   ]
  },
  {
   "cell_type": "markdown",
   "metadata": {},
   "source": [
    "- [Requests library](http://docs.python-requests.org/en/master/#the-user-guide) documentation \n",
    "- [Beautiful Soup Doc](https://www.crummy.com/software/BeautifulSoup/bs4/doc/)\n",
    "- [Urllib](https://docs.python.org/3/library/urllib.html#module-urllib)\n",
    "- [re lib](https://docs.python.org/3/library/re.html)\n",
    "- [lxml lib](https://lxml.de/)\n",
    "- [Scrapy](https://scrapy.org/)\n",
    "- [List of HTTP status codes](https://en.wikipedia.org/wiki/List_of_HTTP_status_codes)\n",
    "- [HTML basics](http://www.simplehtmlguide.com/cheatsheet.php)\n",
    "- [CSS basics](https://www.cssbasics.com/#page_start)"
   ]
  },
  {
   "cell_type": "markdown",
   "metadata": {},
   "source": [
    "#### Below are the libraries and modules you may need. `requests`,  `BeautifulSoup` and `pandas` are imported for you. If you prefer to use additional libraries feel free to uncomment them."
   ]
  },
  {
   "cell_type": "code",
   "execution_count": 3,
   "metadata": {},
   "outputs": [],
   "source": [
    "import requests as req\n",
    "from bs4 import BeautifulSoup\n",
    "import pandas as pd\n",
    "# from pprint import pprint\n",
    "# from lxml import html\n",
    "# from lxml.html import fromstring\n",
    "# import urllib.request\n",
    "# from urllib.request import urlopen\n",
    "# import random\n",
    "# import re\n",
    "# import scrapy"
   ]
  },
  {
   "cell_type": "markdown",
   "metadata": {},
   "source": [
    "#### Download, parse (using BeautifulSoup), and print the content from the Trending Developers page from GitHub:"
   ]
  },
  {
   "cell_type": "code",
   "execution_count": 4,
   "metadata": {},
   "outputs": [],
   "source": [
    "# This is the url you will scrape in this exercise\n",
    "url = 'https://github.com/trending/developers'"
   ]
  },
  {
   "cell_type": "code",
   "execution_count": 5,
   "metadata": {},
   "outputs": [],
   "source": [
    "#your code\n",
    "res = req.get(url)\n",
    "#res.text\n"
   ]
  },
  {
   "cell_type": "markdown",
   "metadata": {},
   "source": [
    "#### Display the names of the trending developers retrieved in the previous step.\n",
    "\n",
    "Your output should be a Python list of developer names. Each name should not contain any html tag.\n",
    "\n",
    "**Instructions:**\n",
    "\n",
    "1. Find out the html tag and class names used for the developer names. You can achieve this using Chrome DevTools.\n",
    "\n",
    "1. Use BeautifulSoup to extract all the html elements that contain the developer names.\n",
    "\n",
    "1. Use string manipulation techniques to replace whitespaces and linebreaks (i.e. `\\n`) in the *text* of each html element. Use a list to store the clean names.\n",
    "\n",
    "1. Print the list of names.\n",
    "\n",
    "Your output should look like below:\n",
    "\n",
    "```\n",
    "['trimstray (@trimstray)',\n",
    " 'joewalnes (JoeWalnes)',\n",
    " 'charlax (Charles-AxelDein)',\n",
    " 'ForrestKnight (ForrestKnight)',\n",
    " 'revery-ui (revery-ui)',\n",
    " 'alibaba (Alibaba)',\n",
    " 'Microsoft (Microsoft)',\n",
    " 'github (GitHub)',\n",
    " 'facebook (Facebook)',\n",
    " 'boazsegev (Bo)',\n",
    " 'google (Google)',\n",
    " 'cloudfetch',\n",
    " 'sindresorhus (SindreSorhus)',\n",
    " 'tensorflow',\n",
    " 'apache (TheApacheSoftwareFoundation)',\n",
    " 'DevonCrawford (DevonCrawford)',\n",
    " 'ARMmbed (ArmMbed)',\n",
    " 'vuejs (vuejs)',\n",
    " 'fastai (fast.ai)',\n",
    " 'QiShaoXuan (Qi)',\n",
    " 'joelparkerhenderson (JoelParkerHenderson)',\n",
    " 'torvalds (LinusTorvalds)',\n",
    " 'CyC2018',\n",
    " 'komeiji-satori (神楽坂覚々)',\n",
    " 'script-8']\n",
    " ```"
   ]
  },
  {
   "cell_type": "code",
   "execution_count": 6,
   "metadata": {},
   "outputs": [
    {
     "data": {
      "text/plain": [
       "['Steven Loria (sloria)',\n",
       " 'Miek Gieben (miekg)',\n",
       " 'Franck Nijhof (frenck)',\n",
       " 'Henrik Rydgård (hrydgard)',\n",
       " 'Michiel Borkent (borkdude)',\n",
       " 'Adam Johnson (adamchainz)',\n",
       " 'Daniel Agar (dagar)',\n",
       " 'ᴍɪᴍɪ (stevenjoezhang)',\n",
       " 'Florian Gilcher (skade)',\n",
       " 'Hiroshi Kimura (muukii)',\n",
       " 'radare (radare)',\n",
       " 'Eric Niebler (ericniebler)',\n",
       " 'Vincent Ambo (tazjin)',\n",
       " 'Alexey Kutepov (rexim)',\n",
       " 'James Newton-King (JamesNK)',\n",
       " 'Norman Maurer (normanmaurer)',\n",
       " 'Kevin Papst (kevinpapst)',\n",
       " 'Nikita Sobolev (sobolevn)',\n",
       " 'Ken’ichiro Oyama (k1LoW)',\n",
       " 'Rich Harris (Rich-Harris)',\n",
       " 'Janko Marohnić (janko)',\n",
       " 'Michael Grupp (MichaelGrupp)',\n",
       " 'Arvid Norberg (arvidn)',\n",
       " 'David Tolnay (dtolnay)',\n",
       " 'William Chargin (wchargin)']"
      ]
     },
     "execution_count": 6,
     "metadata": {},
     "output_type": "execute_result"
    }
   ],
   "source": [
    "#your code\n",
    "soup = BeautifulSoup(res.text, 'html.parser')\n",
    "lst=[]\n",
    "for i in soup.select('h1.h3 a'):\n",
    "    lst.append((i.get_text()+ ' ('+ i.get('href').replace('/','')+')'))\n",
    "lst"
   ]
  },
  {
   "cell_type": "markdown",
   "metadata": {},
   "source": [
    "#### Display the trending Python repositories in GitHub\n",
    "\n",
    "The steps to solve this problem is similar to the previous one except that you need to find out the repository names instead of developer names."
   ]
  },
  {
   "cell_type": "code",
   "execution_count": 7,
   "metadata": {},
   "outputs": [],
   "source": [
    "# This is the url you will scrape in this exercise\n",
    "url2 = 'https://github.com/trending/python?since=daily'"
   ]
  },
  {
   "cell_type": "code",
   "execution_count": 8,
   "metadata": {},
   "outputs": [],
   "source": [
    "#your code\n",
    "res2 = req.get(url2)\n",
    "#res2.text"
   ]
  },
  {
   "cell_type": "code",
   "execution_count": 9,
   "metadata": {},
   "outputs": [
    {
     "data": {
      "text/plain": [
       "['wifiphisher',\n",
       " 'shengqiangzhang',\n",
       " 'zllrunning',\n",
       " 'snorkel-team',\n",
       " 'donnemartin',\n",
       " 'Avik-Jain',\n",
       " 'LiyuanLucasLiu',\n",
       " 'CorentinJ',\n",
       " 'ct-Open-Source',\n",
       " 'KUR-creative',\n",
       " 'keras-team',\n",
       " 'CyberZHG',\n",
       " 'trustedsec',\n",
       " 'instagrambot',\n",
       " 'stamparm',\n",
       " 'Rapptz',\n",
       " 'LevPasha',\n",
       " 'apachecn',\n",
       " 'tensorflow',\n",
       " 'derv82',\n",
       " 'home-assistant',\n",
       " 'bitcoinbook',\n",
       " 'jrosebr1',\n",
       " 'ranaroussi']"
      ]
     },
     "execution_count": 9,
     "metadata": {},
     "output_type": "execute_result"
    }
   ],
   "source": [
    "lst2=[]\n",
    "soup = BeautifulSoup(res2.text, 'html.parser')\n",
    "for i in soup.select('h1.h3 a'):\n",
    "    lst2.append((i.get('href').split('/')[1]))\n",
    "lst2"
   ]
  },
  {
   "cell_type": "markdown",
   "metadata": {},
   "source": [
    "#### Display all the image links from Walt Disney wikipedia page"
   ]
  },
  {
   "cell_type": "code",
   "execution_count": 10,
   "metadata": {},
   "outputs": [],
   "source": [
    "# This is the url you will scrape in this exercise\n",
    "url3 = 'https://en.wikipedia.org/wiki/Walt_Disney'"
   ]
  },
  {
   "cell_type": "code",
   "execution_count": 11,
   "metadata": {},
   "outputs": [],
   "source": [
    "#your code\n",
    "res3 = req.get(url3)\n",
    "#res3.text"
   ]
  },
  {
   "cell_type": "code",
   "execution_count": 12,
   "metadata": {},
   "outputs": [
    {
     "data": {
      "text/plain": [
       "['https://upload.wikimedia.org/wikipedia/commons/thumb/d/df/Walt_Disney_1946.JPG/220px-Walt_Disney_1946.JPG',\n",
       " 'https://upload.wikimedia.org/wikipedia/commons/thumb/8/87/Walt_Disney_1942_signature.svg/150px-Walt_Disney_1942_signature.svg.png',\n",
       " 'https://upload.wikimedia.org/wikipedia/commons/thumb/c/c4/Walt_Disney_envelope_ca._1921.jpg/220px-Walt_Disney_envelope_ca._1921.jpg',\n",
       " 'https://upload.wikimedia.org/wikipedia/commons/thumb/0/0d/Trolley_Troubles_poster.jpg/170px-Trolley_Troubles_poster.jpg',\n",
       " 'https://upload.wikimedia.org/wikipedia/commons/thumb/7/71/Walt_Disney_and_his_cartoon_creation_%22Mickey_Mouse%22_-_National_Board_of_Review_Magazine.jpg/170px-Walt_Disney_and_his_cartoon_creation_%22Mickey_Mouse%22_-_National_Board_of_Review_Magazine.jpg',\n",
       " 'https://upload.wikimedia.org/wikipedia/en/thumb/4/4e/Steamboat-willie.jpg/170px-Steamboat-willie.jpg',\n",
       " 'https://upload.wikimedia.org/wikipedia/commons/thumb/5/57/Walt_Disney_1935.jpg/170px-Walt_Disney_1935.jpg',\n",
       " 'https://upload.wikimedia.org/wikipedia/commons/thumb/c/cd/Walt_Disney_Snow_white_1937_trailer_screenshot_%2813%29.jpg/220px-Walt_Disney_Snow_white_1937_trailer_screenshot_%2813%29.jpg',\n",
       " 'https://upload.wikimedia.org/wikipedia/commons/thumb/1/15/Disney_drawing_goofy.jpg/170px-Disney_drawing_goofy.jpg',\n",
       " 'https://upload.wikimedia.org/wikipedia/commons/thumb/1/13/DisneySchiphol1951.jpg/220px-DisneySchiphol1951.jpg',\n",
       " 'https://upload.wikimedia.org/wikipedia/commons/thumb/8/8c/WaltDisneyplansDisneylandDec1954.jpg/220px-WaltDisneyplansDisneylandDec1954.jpg',\n",
       " 'https://upload.wikimedia.org/wikipedia/commons/thumb/f/ff/Walt_disney_portrait_right.jpg/170px-Walt_disney_portrait_right.jpg',\n",
       " 'https://upload.wikimedia.org/wikipedia/commons/thumb/1/1a/Walt_Disney_Grave.JPG/170px-Walt_Disney_Grave.JPG',\n",
       " 'https://upload.wikimedia.org/wikipedia/commons/thumb/2/2d/Roy_O._Disney_with_Company_at_Press_Conference.jpg/170px-Roy_O._Disney_with_Company_at_Press_Conference.jpg',\n",
       " 'https://upload.wikimedia.org/wikipedia/commons/thumb/a/a9/Disney_Display_Case.JPG/170px-Disney_Display_Case.JPG',\n",
       " 'https://upload.wikimedia.org/wikipedia/commons/thumb/6/6c/Disney1968.jpg/170px-Disney1968.jpg',\n",
       " 'https://upload.wikimedia.org/wikipedia/commons/thumb/d/da/Animation_disc.svg/30px-Animation_disc.svg.png',\n",
       " 'https://upload.wikimedia.org/wikipedia/en/thumb/6/69/P_vip.svg/29px-P_vip.svg.png',\n",
       " 'https://upload.wikimedia.org/wikipedia/commons/thumb/1/1a/Magic_Kingdom_castle.jpg/24px-Magic_Kingdom_castle.jpg',\n",
       " 'https://upload.wikimedia.org/wikipedia/en/thumb/e/e7/Video-x-generic.svg/30px-Video-x-generic.svg.png',\n",
       " 'https://upload.wikimedia.org/wikipedia/commons/thumb/a/a3/Flag_of_Los_Angeles_County%2C_California.svg/30px-Flag_of_Los_Angeles_County%2C_California.svg.png',\n",
       " 'https://upload.wikimedia.org/wikipedia/commons/thumb/a/a3/USA_flag_on_television.svg/30px-USA_flag_on_television.svg.png']"
      ]
     },
     "execution_count": 12,
     "metadata": {},
     "output_type": "execute_result"
    }
   ],
   "source": [
    "lst3=[]\n",
    "soup = BeautifulSoup(res3.text, 'html.parser')\n",
    "for i in soup.select('a.image img'):\n",
    "    lst3.append('https:'+i.get('src'))\n",
    "lst3"
   ]
  },
  {
   "cell_type": "code",
   "execution_count": 24,
   "metadata": {},
   "outputs": [
    {
     "data": {
      "image/jpeg": "[encoded data removed]",
      "text/plain": [
       "<IPython.core.display.Image object>"
      ]
     },
     "execution_count": 24,
     "metadata": {
      "image/jpeg": {
       "width": 250
      }
     },
     "output_type": "execute_result"
    }
   ],
   "source": [
    "import IPython\n",
    "#for url in lst3:\n",
    "#IPython.display.Image(lst3[0], width = 250)\n",
    "IPython.display.Image(lst3[2], width = 250)\n",
    "\n"
   ]
  },
  {
   "cell_type": "markdown",
   "metadata": {},
   "source": [
    "#### Retrieve an arbitary Wikipedia page of \"Python\" and create a list of links on that page"
   ]
  },
  {
   "cell_type": "code",
   "execution_count": 11,
   "metadata": {},
   "outputs": [],
   "source": [
    "# This is the url you will scrape in this exercise\n",
    "url4 ='https://en.wikipedia.org/wiki/Python' "
   ]
  },
  {
   "cell_type": "code",
   "execution_count": 12,
   "metadata": {},
   "outputs": [],
   "source": [
    "#your code\n",
    "res4 = req.get(url4)"
   ]
  },
  {
   "cell_type": "code",
   "execution_count": 13,
   "metadata": {},
   "outputs": [
    {
     "data": {
      "text/plain": [
       "['/wiki/Pythonidae',\n",
       " '/wiki/Python_(genus)',\n",
       " '/wiki/Python_(mythology)',\n",
       " '/wiki/Python_of_Aenus',\n",
       " '/wiki/Python_(painter)',\n",
       " '/wiki/Python_of_Byzantium',\n",
       " '/wiki/Python_of_Catana',\n",
       " '/wiki/Python_(film)',\n",
       " '/wiki/Pythons_2',\n",
       " '/wiki/Monty_Python',\n",
       " '/wiki/Python_(Monty)_Pictures',\n",
       " '/wiki/Python_(programming_language)',\n",
       " '/wiki/CPython',\n",
       " '/wiki/CMU_Common_Lisp',\n",
       " '/wiki/PERQ#PERQ_3',\n",
       " '/wiki/Python_(Busch_Gardens_Tampa_Bay)',\n",
       " '/wiki/Python_(Coney_Island,_Cincinnati,_Ohio)',\n",
       " '/wiki/Python_(Efteling)',\n",
       " '/wiki/Python_(automobile_maker)',\n",
       " '/wiki/Python_(Ford_prototype)',\n",
       " '/wiki/Colt_Python',\n",
       " '/wiki/Python_(missile)',\n",
       " '/wiki/Python_(nuclear_primary)',\n",
       " '/wiki/Python_Anghelo',\n",
       " '/wiki/PYTHON',\n",
       " '/wiki/Cython',\n",
       " '/wiki/Pyton']"
      ]
     },
     "execution_count": 13,
     "metadata": {},
     "output_type": "execute_result"
    }
   ],
   "source": [
    "lst4=[]\n",
    "soup = BeautifulSoup(res4.text, 'html.parser')\n",
    "for i in soup.select('div.mw-parser-output ul a[href^=\"/\"]'):\n",
    "    lst4.append(i.get('href'))\n",
    "lst4\n"
   ]
  },
  {
   "cell_type": "markdown",
   "metadata": {},
   "source": [
    "#### Number of Titles that have changed in the United States Code since its last release point "
   ]
  },
  {
   "cell_type": "code",
   "execution_count": 14,
   "metadata": {},
   "outputs": [],
   "source": [
    "# This is the url you will scrape in this exercise\n",
    "url5 = 'http://uscode.house.gov/download/download.shtml'"
   ]
  },
  {
   "cell_type": "code",
   "execution_count": 15,
   "metadata": {},
   "outputs": [],
   "source": [
    "#your code\n",
    "res5 = req.get(url5)"
   ]
  },
  {
   "cell_type": "code",
   "execution_count": 16,
   "metadata": {},
   "outputs": [
    {
     "data": {
      "text/plain": [
       "['Title 2 - The Congress']"
      ]
     },
     "execution_count": 16,
     "metadata": {},
     "output_type": "execute_result"
    }
   ],
   "source": [
    "lst5=[]\n",
    "soup = BeautifulSoup(res5.text, 'html.parser')\n",
    "for i in soup.select('div.usctitlechanged'):\n",
    "    lst5.append(i.get_text().strip())\n",
    "lst5\n"
   ]
  },
  {
   "cell_type": "markdown",
   "metadata": {},
   "source": [
    "#### A Python list with the top ten FBI's Most Wanted names "
   ]
  },
  {
   "cell_type": "code",
   "execution_count": 17,
   "metadata": {},
   "outputs": [],
   "source": [
    "# This is the url you will scrape in this exercise\n",
    "url6 = 'https://www.fbi.gov/wanted/topten'"
   ]
  },
  {
   "cell_type": "code",
   "execution_count": 18,
   "metadata": {},
   "outputs": [],
   "source": [
    "#your code \n",
    "res6 = req.get(url6)"
   ]
  },
  {
   "cell_type": "code",
   "execution_count": 19,
   "metadata": {},
   "outputs": [
    {
     "data": {
      "text/plain": [
       "['JASON DEREK BROWN',\n",
       " 'RAFAEL CARO-QUINTERO',\n",
       " 'ALEXIS FLORES',\n",
       " 'EUGENE PALMER',\n",
       " 'SANTIAGO VILLALBA MEDEROS',\n",
       " 'ROBERT WILLIAM FISHER',\n",
       " 'BHADRESHKUMAR CHETANBHAI PATEL',\n",
       " 'ARNOLDO JIMENEZ',\n",
       " 'ALEJANDRO ROSALES CASTILLO',\n",
       " 'YASER ABDEL SAID']"
      ]
     },
     "execution_count": 19,
     "metadata": {},
     "output_type": "execute_result"
    }
   ],
   "source": [
    "lst6=[]\n",
    "soup = BeautifulSoup(res6.text, 'html.parser')\n",
    "for i in soup.select('h3.title a'):\n",
    "    lst6.append(i.get_text())\n",
    "lst6\n"
   ]
  },
  {
   "cell_type": "markdown",
   "metadata": {},
   "source": [
    "####  20 latest earthquakes info (date, time, latitude, longitude and region name) by the EMSC as a pandas dataframe"
   ]
  },
  {
   "cell_type": "code",
   "execution_count": 20,
   "metadata": {},
   "outputs": [],
   "source": [
    "# This is the url you will scrape in this exercise\n",
    "url7 = 'https://www.emsc-csem.org/Earthquake/'"
   ]
  },
  {
   "cell_type": "code",
   "execution_count": 21,
   "metadata": {},
   "outputs": [],
   "source": [
    "#your code\n",
    "res7 = req.get(url7)"
   ]
  },
  {
   "cell_type": "code",
   "execution_count": 22,
   "metadata": {},
   "outputs": [
    {
     "name": "stdout",
     "output_type": "stream",
     "text": [
      "['2019-06-27', '2019-06-27', '2019-06-27', '2019-06-27', '2019-06-27', '2019-06-27', '2019-06-27', '2019-06-27', '2019-06-27', '2019-06-27', '2019-06-27', '2019-06-27', '2019-06-27', '2019-06-27', '2019-06-27', '2019-06-27', '2019-06-27', '2019-06-27', '2019-06-27', '2019-06-27']\n",
      "['17:38:25.0', '17:20:30.0', '16:31:44.2', '16:14:09.0', '16:12:09.0', '15:51:31.8', '15:51:20.1', '15:44:25.0', '15:39:30.5', '15:22:10.6', '14:49:19.0', '14:46:54.4', '14:43:00.6', '14:14:03.4', '14:05:16.0', '13:36:30.0', '12:48:35.9', '12:47:27.4', '12:45:41.0', '12:36:35.0']\n"
     ]
    }
   ],
   "source": [
    "lst7=[]\n",
    "soup = BeautifulSoup(res7.text, 'html.parser')\n",
    "for i in soup.select('td b a')[:20]:\n",
    "    lst7.append(i.get_text())\n",
    "lst7 = list(map(lambda x: x.split('\\xa0\\xa0\\xa0'),lst7))\n",
    "date=[]\n",
    "hour=[]\n",
    "for i in lst7:\n",
    "    date.append(i[0])\n",
    "    hour.append(i[1])\n",
    "\n",
    "print(date)\n",
    "print(hour)"
   ]
  },
  {
   "cell_type": "code",
   "execution_count": 23,
   "metadata": {},
   "outputs": [
    {
     "name": "stdout",
     "output_type": "stream",
     "text": [
      "Latitude:  ['50.26 N', '8.31 N', '39.35 N', '2.42 S', '18.40 N', '45.68 N', '39.88 N', '2.49 S', '21.89 S', '43.80 N', '19.12 N', '38.17 N', '40.71 N', '20.74 S', '2.31 S', '8.37 N', '2.72 S', '39.57 N', '2.55 S', '29.65 S']\n",
      "Longitude:  ['18.71 E', '82.91 W', '123.31 W', '138.62 E', '105.50 W', '26.78 E', '15.38 E', '138.58 E', '168.71 E', '15.38 E', '70.47 W', '36.33 E', '16.56 E', '178.02 W', '138.88 E', '82.85 W', '138.36 E', '26.08 E', '138.61 E', '71.28 W']\n"
     ]
    }
   ],
   "source": [
    "lst8=[]\n",
    "lst9=[]\n",
    "lst10=[]\n",
    "for i in soup.select('td.tabev1')[:40]:\n",
    "    lst8.append(i.get_text().rstrip())\n",
    "for i in soup.select('td.tabev2')[:60]:\n",
    "    lst9.append(i.get_text().rstrip())\n",
    "for i in range(len(lst9)):\n",
    "    if (i+1)%3==0:\n",
    "        continue\n",
    "    else:\n",
    "        lst10.append(lst9[i])\n",
    "latitude=[]\n",
    "longitude=[]\n",
    "for i in range(len(lst8)):\n",
    "    if i%2==0:\n",
    "        latitude.append(lst8[i]+' '+lst10[i])\n",
    "    else: longitude.append(lst8[i]+' '+lst10[i])\n",
    "print('Latitude: ',latitude)\n",
    "print('Longitude: ',longitude)"
   ]
  },
  {
   "cell_type": "code",
   "execution_count": 24,
   "metadata": {},
   "outputs": [
    {
     "name": "stdout",
     "output_type": "stream",
     "text": [
      "['POLAND', 'PANAMA-COSTA RICA BORDER REGION', 'NORTHERN CALIFORNIA', 'PAPUA, INDONESIA', 'OFF COAST OF JALISCO, MEXICO', 'ROMANIA', 'SOUTHERN ITALY', 'PAPUA, INDONESIA', 'LOYALTY ISLANDS', 'ADRIATIC SEA', 'DOMINICAN REPUBLIC', 'CENTRAL TURKEY', 'SOUTHERN ITALY', 'FIJI REGION', 'PAPUA, INDONESIA', 'PANAMA-COSTA RICA BORDER REGION', 'PAPUA, INDONESIA', 'NEAR THE COAST OF WESTERN TURKEY', 'PAPUA, INDONESIA', 'COQUIMBO, CHILE']\n"
     ]
    }
   ],
   "source": [
    "region=[]\n",
    "\n",
    "for i in soup.select('td.tb_region')[:20]:\n",
    "    region.append(i.get_text().strip())\n",
    "print(region)"
   ]
  },
  {
   "cell_type": "code",
   "execution_count": 25,
   "metadata": {},
   "outputs": [],
   "source": [
    "df=pd.DataFrame()"
   ]
  },
  {
   "cell_type": "code",
   "execution_count": 26,
   "metadata": {},
   "outputs": [
    {
     "data": {
      "text/html": [
       "<div>\n",
       "<style scoped>\n",
       "    .dataframe tbody tr th:only-of-type {\n",
       "        vertical-align: middle;\n",
       "    }\n",
       "\n",
       "    .dataframe tbody tr th {\n",
       "        vertical-align: top;\n",
       "    }\n",
       "\n",
       "    .dataframe thead th {\n",
       "        text-align: right;\n",
       "    }\n",
       "</style>\n",
       "<table border=\"1\" class=\"dataframe\">\n",
       "  <thead>\n",
       "    <tr style=\"text-align: right;\">\n",
       "      <th></th>\n",
       "      <th>Date</th>\n",
       "      <th>Time</th>\n",
       "      <th>Latitude</th>\n",
       "      <th>Longitude</th>\n",
       "      <th>Region Name</th>\n",
       "    </tr>\n",
       "  </thead>\n",
       "  <tbody>\n",
       "    <tr>\n",
       "      <th>0</th>\n",
       "      <td>2019-06-27</td>\n",
       "      <td>17:38:25.0</td>\n",
       "      <td>50.26 N</td>\n",
       "      <td>18.71 E</td>\n",
       "      <td>POLAND</td>\n",
       "    </tr>\n",
       "    <tr>\n",
       "      <th>1</th>\n",
       "      <td>2019-06-27</td>\n",
       "      <td>17:20:30.0</td>\n",
       "      <td>8.31 N</td>\n",
       "      <td>82.91 W</td>\n",
       "      <td>PANAMA-COSTA RICA BORDER REGION</td>\n",
       "    </tr>\n",
       "    <tr>\n",
       "      <th>2</th>\n",
       "      <td>2019-06-27</td>\n",
       "      <td>16:31:44.2</td>\n",
       "      <td>39.35 N</td>\n",
       "      <td>123.31 W</td>\n",
       "      <td>NORTHERN CALIFORNIA</td>\n",
       "    </tr>\n",
       "    <tr>\n",
       "      <th>3</th>\n",
       "      <td>2019-06-27</td>\n",
       "      <td>16:14:09.0</td>\n",
       "      <td>2.42 S</td>\n",
       "      <td>138.62 E</td>\n",
       "      <td>PAPUA, INDONESIA</td>\n",
       "    </tr>\n",
       "    <tr>\n",
       "      <th>4</th>\n",
       "      <td>2019-06-27</td>\n",
       "      <td>16:12:09.0</td>\n",
       "      <td>18.40 N</td>\n",
       "      <td>105.50 W</td>\n",
       "      <td>OFF COAST OF JALISCO, MEXICO</td>\n",
       "    </tr>\n",
       "  </tbody>\n",
       "</table>\n",
       "</div>"
      ],
      "text/plain": [
       "         Date        Time Latitude Longitude                      Region Name\n",
       "0  2019-06-27  17:38:25.0  50.26 N   18.71 E                           POLAND\n",
       "1  2019-06-27  17:20:30.0   8.31 N   82.91 W  PANAMA-COSTA RICA BORDER REGION\n",
       "2  2019-06-27  16:31:44.2  39.35 N  123.31 W              NORTHERN CALIFORNIA\n",
       "3  2019-06-27  16:14:09.0   2.42 S  138.62 E                 PAPUA, INDONESIA\n",
       "4  2019-06-27  16:12:09.0  18.40 N  105.50 W     OFF COAST OF JALISCO, MEXICO"
      ]
     },
     "metadata": {},
     "output_type": "display_data"
    }
   ],
   "source": [
    "columns={'Date':date,'Time':hour,'Latitude':latitude,'Longitude':longitude,'Region Name':region}\n",
    "for i in columns:\n",
    "    df[i]=columns[i]\n",
    "\n",
    "display(df.head())"
   ]
  },
  {
   "cell_type": "markdown",
   "metadata": {},
   "source": [
    "#### Display the date, days, title, city, country of next 25 hackathon events as a Pandas dataframe table"
   ]
  },
  {
   "cell_type": "code",
   "execution_count": 27,
   "metadata": {},
   "outputs": [],
   "source": [
    "# This is the url you will scrape in this exercise\n",
    "url8 ='https://hackevents.co/hackathons'"
   ]
  },
  {
   "cell_type": "code",
   "execution_count": 48,
   "metadata": {},
   "outputs": [],
   "source": [
    "#your code\n",
    "res12 = req.get(url8)\n",
    "soup = BeautifulSoup(res12.text, 'html.parser')"
   ]
  },
  {
   "cell_type": "code",
   "execution_count": 37,
   "metadata": {},
   "outputs": [
    {
     "data": {
      "text/plain": [
       "['6/27/2019', '7/5/2019', '7/12/2019', '7/29/2019', '5/21/2019', '9/6/2019']"
      ]
     },
     "execution_count": 37,
     "metadata": {},
     "output_type": "execute_result"
    }
   ],
   "source": [
    "title=[]\n",
    "date=[]\n",
    "city=[]\n",
    "country=[]\n",
    "for i in soup.select('h5.card-title'):\n",
    "    title.append(i.get_text())\n",
    "for i in soup.select('p.card-text'):\n",
    "    date.append(i.get_text().strip())\n",
    "title\n",
    "date"
   ]
  },
  {
   "cell_type": "code",
   "execution_count": 38,
   "metadata": {},
   "outputs": [],
   "source": [
    "hack=pd.DataFrame()"
   ]
  },
  {
   "cell_type": "code",
   "execution_count": 39,
   "metadata": {},
   "outputs": [
    {
     "data": {
      "text/html": [
       "<div>\n",
       "<style scoped>\n",
       "    .dataframe tbody tr th:only-of-type {\n",
       "        vertical-align: middle;\n",
       "    }\n",
       "\n",
       "    .dataframe tbody tr th {\n",
       "        vertical-align: top;\n",
       "    }\n",
       "\n",
       "    .dataframe thead th {\n",
       "        text-align: right;\n",
       "    }\n",
       "</style>\n",
       "<table border=\"1\" class=\"dataframe\">\n",
       "  <thead>\n",
       "    <tr style=\"text-align: right;\">\n",
       "      <th></th>\n",
       "      <th>Date</th>\n",
       "      <th>Hackaton</th>\n",
       "    </tr>\n",
       "  </thead>\n",
       "  <tbody>\n",
       "    <tr>\n",
       "      <th>0</th>\n",
       "      <td>6/27/2019</td>\n",
       "      <td>OSNA HACK 2019</td>\n",
       "    </tr>\n",
       "    <tr>\n",
       "      <th>1</th>\n",
       "      <td>7/5/2019</td>\n",
       "      <td>Hackathon | Draper University</td>\n",
       "    </tr>\n",
       "    <tr>\n",
       "      <th>2</th>\n",
       "      <td>7/12/2019</td>\n",
       "      <td>Hack-ADA-thon – Inspired by BHS Corrugated</td>\n",
       "    </tr>\n",
       "    <tr>\n",
       "      <th>3</th>\n",
       "      <td>7/29/2019</td>\n",
       "      <td>Code Geist Hackathon by SefrWahed</td>\n",
       "    </tr>\n",
       "    <tr>\n",
       "      <th>4</th>\n",
       "      <td>5/21/2019</td>\n",
       "      <td>The Code Factor</td>\n",
       "    </tr>\n",
       "    <tr>\n",
       "      <th>5</th>\n",
       "      <td>9/6/2019</td>\n",
       "      <td>TECHFEST MUNICH</td>\n",
       "    </tr>\n",
       "  </tbody>\n",
       "</table>\n",
       "</div>"
      ],
      "text/plain": [
       "        Date                                    Hackaton\n",
       "0  6/27/2019                              OSNA HACK 2019\n",
       "1   7/5/2019               Hackathon | Draper University\n",
       "2  7/12/2019  Hack-ADA-thon – Inspired by BHS Corrugated\n",
       "3  7/29/2019           Code Geist Hackathon by SefrWahed\n",
       "4  5/21/2019                             The Code Factor\n",
       "5   9/6/2019                             TECHFEST MUNICH"
      ]
     },
     "metadata": {},
     "output_type": "display_data"
    }
   ],
   "source": [
    "hack['Date']=date\n",
    "hack['Hackaton']=title\n",
    "display(hack)"
   ]
  },
  {
   "cell_type": "markdown",
   "metadata": {},
   "source": [
    "#### Count number of tweets by a given Twitter account."
   ]
  },
  {
   "cell_type": "markdown",
   "metadata": {},
   "source": [
    "You will need to include a ***try/except block*** for account names not found. \n",
    "<br>***Hint:*** the program should count the number of tweets for any provided account"
   ]
  },
  {
   "cell_type": "code",
   "execution_count": 1,
   "metadata": {},
   "outputs": [],
   "source": [
    "# This is the url you will scrape in this exercise \n",
    "# You will need to add the account credentials to this url\n",
    "url9 = 'https://twitter.com/'"
   ]
  },
  {
   "cell_type": "code",
   "execution_count": 25,
   "metadata": {},
   "outputs": [
    {
     "name": "stdout",
     "output_type": "stream",
     "text": [
      "@barackobama: 15643  tweets\n"
     ]
    }
   ],
   "source": [
    "#your code\n",
    "account='barackobama'\n",
    "try:\n",
    "    res13 = req.get(url9+account)\n",
    "    soup = BeautifulSoup(res13.text, 'html.parser')\n",
    "    a= soup.select('span.ProfileNav-value')\n",
    "    print('@{}:'.format(account), a[0].get('data-count'),' tweets')\n",
    "  \n",
    "except:\n",
    "    print('Invalid user')"
   ]
  },
  {
   "cell_type": "markdown",
   "metadata": {},
   "source": [
    "#### Number of followers of a given twitter account"
   ]
  },
  {
   "cell_type": "markdown",
   "metadata": {},
   "source": [
    "You will need to include a ***try/except block*** in case account/s name not found. \n",
    "<br>***Hint:*** the program should count the followers for any provided account"
   ]
  },
  {
   "cell_type": "code",
   "execution_count": 26,
   "metadata": {},
   "outputs": [],
   "source": [
    "# This is the url you will scrape in this exercise \n",
    "# You will need to add the account credentials to this url\n",
    "url10 = 'https://twitter.com/'"
   ]
  },
  {
   "cell_type": "code",
   "execution_count": 141,
   "metadata": {},
   "outputs": [
    {
     "name": "stdout",
     "output_type": "stream",
     "text": [
      "@barackobama: 106780739  followers\n"
     ]
    }
   ],
   "source": [
    "#your code\n",
    "account='barackobama'\n",
    "try:\n",
    "    res14 = req.get(url10+account)\n",
    "    soup = BeautifulSoup(res14.text, 'html.parser')\n",
    "    a= soup.select('span.ProfileNav-value')\n",
    "    print('@{}:'.format(account), a[2].get('data-count'),' followers')\n",
    "  \n",
    "except:\n",
    "    print('Invalid user')"
   ]
  },
  {
   "cell_type": "markdown",
   "metadata": {},
   "source": [
    "#### List all language names and number of related articles in the order they appear in wikipedia.org"
   ]
  },
  {
   "cell_type": "code",
   "execution_count": 43,
   "metadata": {},
   "outputs": [],
   "source": [
    "# This is the url you will scrape in this exercise\n",
    "url11 = 'https://www.wikipedia.org/'"
   ]
  },
  {
   "cell_type": "code",
   "execution_count": 66,
   "metadata": {},
   "outputs": [
    {
     "name": "stdout",
     "output_type": "stream",
     "text": [
      "[['English', '5.878.000'], ['æ\\x97¥æ\\x9c¬èª\\x9e', '1.155.000'], ['EspaÃ±ol', '1.528.000'], ['Deutsch', '2.314.000'], ['Ð\\xa0Ñ\\x83Ñ\\x81Ñ\\x81ÐºÐ¸Ð¹', '1.551.000'], ['FranÃ§ais', '2.116.000'], ['Italiano', '1.535.000'], ['ä¸\\xadæ\\x96\\x87', '1.062.000'], ['PortuguÃªs', '1.008.000'], ['Polski', '1.342.000']]\n"
     ]
    }
   ],
   "source": [
    "#your code\n",
    "import re\n",
    "res15 = req.get(url11)\n",
    "soup = BeautifulSoup(res15.text, 'html.parser')\n",
    "a= soup.select('body a.link-box')\n",
    "languages=[]\n",
    "for i in range(len(a)):\n",
    "    languages.append(a[i].get_text().strip().split('\\n'))\n",
    "for i in range(len(languages)):\n",
    "    languages[i][1]='.'.join(re.findall('\\d+',languages[i][1]))\n",
    "\n",
    "print(languages)"
   ]
  },
  {
   "cell_type": "markdown",
   "metadata": {},
   "source": [
    "#### A list with the different kind of datasets available in data.gov.uk "
   ]
  },
  {
   "cell_type": "code",
   "execution_count": 68,
   "metadata": {},
   "outputs": [],
   "source": [
    "# This is the url you will scrape in this exercise\n",
    "url12 = 'https://data.gov.uk/'"
   ]
  },
  {
   "cell_type": "code",
   "execution_count": 73,
   "metadata": {},
   "outputs": [
    {
     "name": "stdout",
     "output_type": "stream",
     "text": [
      "['Business and economy', 'Crime and justice', 'Defence', 'Education', 'Environment', 'Government', 'Government spending', 'Health', 'Mapping', 'Society', 'Towns and cities', 'Transport']\n"
     ]
    }
   ],
   "source": [
    "#your code\n",
    "data=[]\n",
    "res16 = req.get(url12)\n",
    "soup = BeautifulSoup(res16.text, 'html.parser')\n",
    "for i in soup.select('h2 a'):\n",
    "    data.append(i.get_text())\n",
    "print(data)"
   ]
  },
  {
   "cell_type": "markdown",
   "metadata": {},
   "source": [
    "#### Top 10 languages by number of native speakers stored in a Pandas Dataframe"
   ]
  },
  {
   "cell_type": "code",
   "execution_count": 74,
   "metadata": {},
   "outputs": [],
   "source": [
    "# This is the url you will scrape in this exercise\n",
    "url13 = 'https://en.wikipedia.org/wiki/List_of_languages_by_number_of_native_speakers'"
   ]
  },
  {
   "cell_type": "code",
   "execution_count": 131,
   "metadata": {},
   "outputs": [
    {
     "name": "stdout",
     "output_type": "stream",
     "text": [
      "['935 (955)', '390 (405)', '365 (360)', '295 (310)', '280 (295)', '205 (215)', '200 (205)', '160 (155)', '125 (125)', '95 (100)']\n"
     ]
    }
   ],
   "source": [
    "#your code\n",
    "langu=[]\n",
    "native=[]\n",
    "res17 = req.get(url13)\n",
    "soup = BeautifulSoup(res17.text, 'html.parser')\n",
    "\n",
    "lst_elements = soup.select(\"td b a\")\n",
    "\n",
    "for e in range(10):\n",
    "    langu.append(lst_elements[e].text)\n",
    "\n",
    "lst_elements2 = soup.select(\"table:nth-of-type(3) td:nth-child(3)\")\n",
    "\n",
    "for e in range(10):\n",
    "    native.append(lst_elements2[e].text)    \n",
    "\n",
    "#list(map(lambda x: x.findChildren()[0].text.rstrip(), lst_elements2))\n",
    "    \n",
    "print(native)"
   ]
  },
  {
   "cell_type": "code",
   "execution_count": 140,
   "metadata": {},
   "outputs": [
    {
     "data": {
      "text/html": [
       "<div>\n",
       "<style scoped>\n",
       "    .dataframe tbody tr th:only-of-type {\n",
       "        vertical-align: middle;\n",
       "    }\n",
       "\n",
       "    .dataframe tbody tr th {\n",
       "        vertical-align: top;\n",
       "    }\n",
       "\n",
       "    .dataframe thead th {\n",
       "        text-align: right;\n",
       "    }\n",
       "</style>\n",
       "<table border=\"1\" class=\"dataframe\">\n",
       "  <thead>\n",
       "    <tr style=\"text-align: right;\">\n",
       "      <th></th>\n",
       "      <th>Language</th>\n",
       "      <th>Native Speakers in millions 2007 (2010)</th>\n",
       "    </tr>\n",
       "  </thead>\n",
       "  <tbody>\n",
       "    <tr>\n",
       "      <th>0</th>\n",
       "      <td>Mandarin</td>\n",
       "      <td>935 (955)</td>\n",
       "    </tr>\n",
       "    <tr>\n",
       "      <th>1</th>\n",
       "      <td>Spanish</td>\n",
       "      <td>390 (405)</td>\n",
       "    </tr>\n",
       "    <tr>\n",
       "      <th>2</th>\n",
       "      <td>English</td>\n",
       "      <td>365 (360)</td>\n",
       "    </tr>\n",
       "    <tr>\n",
       "      <th>3</th>\n",
       "      <td>Hindi</td>\n",
       "      <td>295 (310)</td>\n",
       "    </tr>\n",
       "    <tr>\n",
       "      <th>4</th>\n",
       "      <td>Arabic</td>\n",
       "      <td>280 (295)</td>\n",
       "    </tr>\n",
       "    <tr>\n",
       "      <th>5</th>\n",
       "      <td>Portuguese</td>\n",
       "      <td>205 (215)</td>\n",
       "    </tr>\n",
       "    <tr>\n",
       "      <th>6</th>\n",
       "      <td>Bengali</td>\n",
       "      <td>200 (205)</td>\n",
       "    </tr>\n",
       "    <tr>\n",
       "      <th>7</th>\n",
       "      <td>Russian</td>\n",
       "      <td>160 (155)</td>\n",
       "    </tr>\n",
       "    <tr>\n",
       "      <th>8</th>\n",
       "      <td>Japanese</td>\n",
       "      <td>125 (125)</td>\n",
       "    </tr>\n",
       "    <tr>\n",
       "      <th>9</th>\n",
       "      <td>Punjabi</td>\n",
       "      <td>95 (100)</td>\n",
       "    </tr>\n",
       "  </tbody>\n",
       "</table>\n",
       "</div>"
      ],
      "text/plain": [
       "     Language Native Speakers in millions 2007 (2010)\n",
       "0    Mandarin                               935 (955)\n",
       "1     Spanish                               390 (405)\n",
       "2     English                               365 (360)\n",
       "3       Hindi                               295 (310)\n",
       "4      Arabic                               280 (295)\n",
       "5  Portuguese                               205 (215)\n",
       "6     Bengali                               200 (205)\n",
       "7     Russian                               160 (155)\n",
       "8    Japanese                               125 (125)\n",
       "9     Punjabi                                95 (100)"
      ]
     },
     "metadata": {},
     "output_type": "display_data"
    }
   ],
   "source": [
    "dflangu=pd.DataFrame()\n",
    "dflangu['Language']=langu\n",
    "dflangu['Native Speakers in millions 2007 (2010)']=native\n",
    "display(dflangu)"
   ]
  },
  {
   "cell_type": "markdown",
   "metadata": {},
   "source": [
    "### BONUS QUESTIONS"
   ]
  },
  {
   "cell_type": "markdown",
   "metadata": {},
   "source": [
    "#### Scrape a certain number of tweets of a given Twitter account."
   ]
  },
  {
   "cell_type": "code",
   "execution_count": 25,
   "metadata": {},
   "outputs": [],
   "source": [
    "# This is the url you will scrape in this exercise \n",
    "# You will need to add the account credentials to this url\n",
    "url20 = 'https://twitter.com/'"
   ]
  },
  {
   "cell_type": "code",
   "execution_count": 26,
   "metadata": {},
   "outputs": [
    {
     "data": {
      "text/plain": [
       "['1-Toni Morrison was a national treasure, as good a storyteller, as captivating, in person as she was on the page. Her writing was a beautiful, meaningful challenge to our conscience and our moral imagination. What a gift to breathe the same air as her, if only for a while.pic.twitter.com/JG7Jgu4p9t',\n",
       " '2-Until all of us stand up and insist on holding public officials accountable for changing our gun laws, these tragedies will keep happening:https://www.vox.com/policy-and-politics/2019/7/1/18683860/democrats-2020-gun-control-mass-shootings\\xa0…',\n",
       " '3-pic.twitter.com/nNOVtQ50O4',\n",
       " \"4-The families of our wounded warriors don't often get a lot of fanfare, but they're serving and sacrificing right alongside their loved ones. We all owe a debt to them, too, and Fisher House is always making sure we're serving those who serve us.https://twitter.com/FisherHouseFdtn/status/1157014026632798208\\xa0…\",\n",
       " '5-Recent court decisions make it clear that the change we need to restore our democracy has to come from the ground up. @Allontheline’s work to ensure an accurate census count and achieve fair maps in 2021 has never been more important. Join us today: http://bit.ly/aotl44tw719\\xa0pic.twitter.com/mEbwKCDUiP',\n",
       " '6-Here’s a worthwhile Sunday read: “…nothing should temper partisanship more than an awareness that somewhere, on some issue, people with whom you disagree are telling a story that you really need to hear.”https://www.nytimes.com/2019/07/27/opinion/sunday/the-stories-that-divide-us.html\\xa0…',\n",
       " '7-I’ve always been proud of what this team accomplished during my administration. But more than what we did, I’m proud of how they’re continuing to fight for an America that’s better.https://www.washingtonpost.com/opinions/we-are-african-americans-we-are-patriots-and-we-refuse-to-sit-idly-by/2019/07/26/c02ade6c-af16-11e9-8e77-03b30bc29f64_story.html\\xa0…']"
      ]
     },
     "metadata": {},
     "output_type": "display_data"
    }
   ],
   "source": [
    "# your code\n",
    "account='barackobama'\n",
    "number=7\n",
    "dev=[]\n",
    "try:\n",
    "    res14 = req.get(url20+account)\n",
    "    soup = BeautifulSoup(res14.text, 'html.parser')\n",
    "    a= soup.select('div.js-tweet-text-container p')\n",
    "    for i in range(number):\n",
    "        dev.append('{}-{}'.format(i+1,a[i].get_text()))\n",
    "    display(dev)\n",
    "except:\n",
    "    print('Invalid user')"
   ]
  },
  {
   "cell_type": "markdown",
   "metadata": {},
   "source": [
    "#### IMDB's Top 250 data (movie name, Initial release, director name and stars) as a pandas dataframe"
   ]
  },
  {
   "cell_type": "code",
   "execution_count": 104,
   "metadata": {},
   "outputs": [],
   "source": [
    "# This is the url you will scrape in this exercise \n",
    "url21 = 'https://www.imdb.com/chart/top'"
   ]
  },
  {
   "cell_type": "code",
   "execution_count": 107,
   "metadata": {},
   "outputs": [
    {
     "data": {
      "text/html": [
       "<div>\n",
       "<style scoped>\n",
       "    .dataframe tbody tr th:only-of-type {\n",
       "        vertical-align: middle;\n",
       "    }\n",
       "\n",
       "    .dataframe tbody tr th {\n",
       "        vertical-align: top;\n",
       "    }\n",
       "\n",
       "    .dataframe thead th {\n",
       "        text-align: right;\n",
       "    }\n",
       "</style>\n",
       "<table border=\"1\" class=\"dataframe\">\n",
       "  <thead>\n",
       "    <tr style=\"text-align: right;\">\n",
       "      <th></th>\n",
       "      <th>Title</th>\n",
       "      <th>Year</th>\n",
       "      <th>Director</th>\n",
       "      <th>Stars</th>\n",
       "    </tr>\n",
       "  </thead>\n",
       "  <tbody>\n",
       "    <tr>\n",
       "      <th>0</th>\n",
       "      <td>Cadena perpetua</td>\n",
       "      <td>1994</td>\n",
       "      <td>Frank Darabont</td>\n",
       "      <td>9.2</td>\n",
       "    </tr>\n",
       "    <tr>\n",
       "      <th>1</th>\n",
       "      <td>El padrino</td>\n",
       "      <td>1972</td>\n",
       "      <td>Francis Ford Coppola</td>\n",
       "      <td>9.1</td>\n",
       "    </tr>\n",
       "    <tr>\n",
       "      <th>2</th>\n",
       "      <td>El padrino: Parte II</td>\n",
       "      <td>1974</td>\n",
       "      <td>Francis Ford Coppola</td>\n",
       "      <td>9.0</td>\n",
       "    </tr>\n",
       "    <tr>\n",
       "      <th>3</th>\n",
       "      <td>El caballero oscuro</td>\n",
       "      <td>2008</td>\n",
       "      <td>Christopher Nolan</td>\n",
       "      <td>9.0</td>\n",
       "    </tr>\n",
       "    <tr>\n",
       "      <th>4</th>\n",
       "      <td>12 hombres sin piedad</td>\n",
       "      <td>1957</td>\n",
       "      <td>Sidney Lumet</td>\n",
       "      <td>8.9</td>\n",
       "    </tr>\n",
       "  </tbody>\n",
       "</table>\n",
       "</div>"
      ],
      "text/plain": [
       "                   Title  Year              Director Stars\n",
       "0        Cadena perpetua  1994        Frank Darabont   9.2\n",
       "1             El padrino  1972  Francis Ford Coppola   9.1\n",
       "2   El padrino: Parte II  1974  Francis Ford Coppola   9.0\n",
       "3    El caballero oscuro  2008     Christopher Nolan   9.0\n",
       "4  12 hombres sin piedad  1957          Sidney Lumet   8.9"
      ]
     },
     "execution_count": 107,
     "metadata": {},
     "output_type": "execute_result"
    }
   ],
   "source": [
    "# your code\n",
    "account='barackobama'\n",
    "number=250\n",
    "title,year,director,stars=[],[],[],[]\n",
    "res14 = req.get(url21)\n",
    "soup = BeautifulSoup(res14.text, 'html.parser')\n",
    "a= soup.select('tbody.lister-list tr td.titleColumn a')\n",
    "b= soup.select('tbody.lister-list tr td.titleColumn span')\n",
    "c=soup.select('tbody.lister-list tr td.ratingColumn.imdbRating')\n",
    "for i in range(number):\n",
    "    title.append(a[i].get_text())\n",
    "    year.append(b[i].get_text().replace('(','').replace(')',''))\n",
    "    director.append(a[i].get('title').split('(')[0].strip())\n",
    "    stars.append(c[i].get_text().strip())\n",
    "data={'Title':title,'Year':year,'Director':director,'Stars':stars}\n",
    "imbd=pd.DataFrame(data)\n",
    "imbd.head()"
   ]
  },
  {
   "cell_type": "markdown",
   "metadata": {},
   "source": [
    "#### Movie name, year and a brief summary of the top 10 random movies (IMDB) as a pandas dataframe."
   ]
  },
  {
   "cell_type": "code",
   "execution_count": null,
   "metadata": {},
   "outputs": [],
   "source": [
    "#This is the url you will scrape in this exercise\n",
    "url = 'http://www.imdb.com/chart/top'"
   ]
  },
  {
   "cell_type": "code",
   "execution_count": null,
   "metadata": {},
   "outputs": [],
   "source": [
    "#your code"
   ]
  },
  {
   "cell_type": "markdown",
   "metadata": {},
   "source": [
    "#### Find the live weather report (temperature, wind speed, description and weather) of a given city."
   ]
  },
  {
   "cell_type": "code",
   "execution_count": 215,
   "metadata": {},
   "outputs": [
    {
     "name": "stdout",
     "output_type": "stream",
     "text": [
      "Enter the city:london\n"
     ]
    }
   ],
   "source": [
    "#https://openweathermap.org/current\n",
    "city = city=input('Enter the city:')\n",
    "url22 = 'http://api.openweathermap.org/data/2.5/weather?'+'q='+city+'&APPID=b35975e18dc93725acb092f7272cc6b8&units=metric'"
   ]
  },
  {
   "cell_type": "code",
   "execution_count": 227,
   "metadata": {},
   "outputs": [
    {
     "name": "stdout",
     "output_type": "stream",
     "text": [
      "Live weather report for London:\n",
      "Temperature: 13.24 degrees\n",
      "Wind speed: 2.6 km/h\n",
      "Weather description: clear sky\n"
     ]
    },
    {
     "data": {
      "text/html": [
       "<div style=\"width:100%;\"><div style=\"position:relative;width:100%;height:0;padding-bottom:60%;\"><iframe src=\"data:text/html;charset=utf-8;base64,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\" style=\"position:absolute;width:100%;height:100%;left:0;top:0;border:none !important;\" allowfullscreen webkitallowfullscreen mozallowfullscreen></iframe></div></div>"
      ],
      "text/plain": [
       "<folium.folium.Map at 0x136c3b630>"
      ]
     },
     "execution_count": 227,
     "metadata": {},
     "output_type": "execute_result"
    }
   ],
   "source": [
    "# your code\n",
    "import ast\n",
    "import folium\n",
    "res22 = req.get(url22)\n",
    "soup = BeautifulSoup(res22.text, 'html.parser')\n",
    "soup= ast.literal_eval(soup.get_text())\n",
    "x=('Live weather report for {}:\\nTemperature: {} degrees\\nWind speed: {} km/h\\nWeather description: {}'.format(soup['name'],soup['main']['temp'],soup['wind']['speed'],soup['weather'][0]['description']))\n",
    "m=folium.Map(location=[soup['coord']['lat'],soup['coord']['lon']],zoom_start=6,tiles='Stamen Terrain')\n",
    "tooltip=str(soup['name'])+': '+str(soup['main']['temp'])+' degrees'\n",
    "folium.Marker([soup['coord']['lat'],soup['coord']['lon']],popup=soup['name'],tooltip=tooltip).add_to(m)\n",
    "print(x)\n",
    "m"
   ]
  },
  {
   "cell_type": "code",
   "execution_count": 217,
   "metadata": {},
   "outputs": [
    {
     "data": {
      "text/plain": [
       "{'coord': {'lon': -0.13, 'lat': 51.51},\n",
       " 'weather': [{'id': 800,\n",
       "   'main': 'Clear',\n",
       "   'description': 'clear sky',\n",
       "   'icon': '01n'}],\n",
       " 'base': 'stations',\n",
       " 'main': {'temp': 13.24,\n",
       "  'pressure': 1027,\n",
       "  'humidity': 66,\n",
       "  'temp_min': 10.56,\n",
       "  'temp_max': 15.56},\n",
       " 'visibility': 10000,\n",
       " 'wind': {'speed': 2.6, 'deg': 230},\n",
       " 'clouds': {'all': 0},\n",
       " 'dt': 1566337435,\n",
       " 'sys': {'type': 1,\n",
       "  'id': 1412,\n",
       "  'message': 0.009,\n",
       "  'country': 'GB',\n",
       "  'sunrise': 1566276809,\n",
       "  'sunset': 1566328492},\n",
       " 'timezone': 3600,\n",
       " 'id': 2643743,\n",
       " 'name': 'London',\n",
       " 'cod': 200}"
      ]
     },
     "execution_count": 217,
     "metadata": {},
     "output_type": "execute_result"
    }
   ],
   "source": [
    "soup"
   ]
  },
  {
   "cell_type": "markdown",
   "metadata": {},
   "source": [
    "#### Book name,price and stock availability as a pandas dataframe."
   ]
  },
  {
   "cell_type": "code",
   "execution_count": null,
   "metadata": {},
   "outputs": [],
   "source": [
    "# This is the url you will scrape in this exercise. \n",
    "# It is a fictional bookstore created to be scraped. \n",
    "url = 'http://books.toscrape.com/'"
   ]
  },
  {
   "cell_type": "code",
   "execution_count": null,
   "metadata": {},
   "outputs": [],
   "source": [
    "#your code"
   ]
  }
 ],
 "metadata": {
  "kernelspec": {
   "display_name": "Python 3",
   "language": "python",
   "name": "python3"
  },
  "language_info": {
   "codemirror_mode": {
    "name": "ipython",
    "version": 3
   },
   "file_extension": ".py",
   "mimetype": "text/x-python",
   "name": "python",
   "nbconvert_exporter": "python",
   "pygments_lexer": "ipython3",
   "version": "3.7.3"
  }
 },
 "nbformat": 4,
 "nbformat_minor": 2
}
